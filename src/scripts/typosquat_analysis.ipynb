{
 "cells": [
  {
   "cell_type": "code",
   "execution_count": null,
   "metadata": {},
   "outputs": [],
   "source": [
    "from models.original_domain import OriginalDomain\n",
    "from actors.presenter import Presenter"
   ]
  },
  {
   "cell_type": "code",
   "execution_count": 9,
   "metadata": {},
   "outputs": [
    {
     "ename": "TypeError",
     "evalue": "'NoneType' object is not iterable",
     "output_type": "error",
     "traceback": [
      "\u001b[0;31m---------------------------------------------------------------------------\u001b[0m",
      "\u001b[0;31mTypeError\u001b[0m                                 Traceback (most recent call last)",
      "\u001b[1;32m/Users/cillianwhelan/Repos/typosquat/src/scripts/typosquat_analysis.ipynb Cell 2\u001b[0m line \u001b[0;36m2\n\u001b[1;32m      <a href='vscode-notebook-cell:/Users/cillianwhelan/Repos/typosquat/src/scripts/typosquat_analysis.ipynb#W1sZmlsZQ%3D%3D?line=0'>1</a>\u001b[0m original_domain \u001b[39m=\u001b[39m OriginalDomain(\u001b[39m'\u001b[39m\u001b[39mpaypal.com\u001b[39m\u001b[39m'\u001b[39m, \u001b[39m'\u001b[39m\u001b[39mhttps://somelink.com\u001b[39m\u001b[39m'\u001b[39m)\n\u001b[0;32m----> <a href='vscode-notebook-cell:/Users/cillianwhelan/Repos/typosquat/src/scripts/typosquat_analysis.ipynb#W1sZmlsZQ%3D%3D?line=1'>2</a>\u001b[0m original_domain\u001b[39m.\u001b[39;49mgather_info()\n",
      "File \u001b[0;32m~/Repos/typosquat/src/models/original_domain.py:18\u001b[0m, in \u001b[0;36mOriginalDomain.gather_info\u001b[0;34m(self)\u001b[0m\n\u001b[1;32m     16\u001b[0m \u001b[39mdef\u001b[39;00m \u001b[39mgather_info\u001b[39m(\u001b[39mself\u001b[39m):\n\u001b[1;32m     17\u001b[0m     \u001b[39mself\u001b[39m\u001b[39m.\u001b[39mget_clones()\n\u001b[0;32m---> 18\u001b[0m     \u001b[39mself\u001b[39;49m\u001b[39m.\u001b[39;49minvestigate_clones()\n\u001b[1;32m     19\u001b[0m     \u001b[39mself\u001b[39m\u001b[39m.\u001b[39manalyze_clones()\n",
      "File \u001b[0;32m~/Repos/typosquat/src/models/original_domain.py:25\u001b[0m, in \u001b[0;36mOriginalDomain.investigate_clones\u001b[0;34m(self)\u001b[0m\n\u001b[1;32m     24\u001b[0m \u001b[39mdef\u001b[39;00m \u001b[39minvestigate_clones\u001b[39m(\u001b[39mself\u001b[39m) \u001b[39m-\u001b[39m\u001b[39m>\u001b[39m \u001b[39mNone\u001b[39;00m:\n\u001b[0;32m---> 25\u001b[0m     \u001b[39mfor\u001b[39;49;00m clone \u001b[39min\u001b[39;49;00m \u001b[39mself\u001b[39;49m\u001b[39m.\u001b[39;49mclones:\n\u001b[1;32m     26\u001b[0m         Investigator(clone)\u001b[39m.\u001b[39;49minvestigate()\n",
      "\u001b[0;31mTypeError\u001b[0m: 'NoneType' object is not iterable"
     ]
    }
   ],
   "source": [
    "original_domain = OriginalDomain('paypal.com', 'https://somelink.com')\n",
    "original_domain.gather_info()"
   ]
  },
  {
   "cell_type": "code",
   "execution_count": null,
   "metadata": {},
   "outputs": [],
   "source": [
    "presenter = Presenter(original_domain)\n",
    "presenter.display()"
   ]
  },
  {
   "cell_type": "code",
   "execution_count": null,
   "metadata": {},
   "outputs": [],
   "source": []
  }
 ],
 "metadata": {
  "kernelspec": {
   "display_name": ".venv",
   "language": "python",
   "name": "python3"
  },
  "language_info": {
   "codemirror_mode": {
    "name": "ipython",
    "version": 3
   },
   "file_extension": ".py",
   "mimetype": "text/x-python",
   "name": "python",
   "nbconvert_exporter": "python",
   "pygments_lexer": "ipython3",
   "version": "3.11.5"
  },
  "orig_nbformat": 4
 },
 "nbformat": 4,
 "nbformat_minor": 2
}
